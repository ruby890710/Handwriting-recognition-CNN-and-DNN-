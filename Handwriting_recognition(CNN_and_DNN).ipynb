{
  "nbformat": 4,
  "nbformat_minor": 0,
  "metadata": {
    "colab": {
      "provenance": [],
      "gpuType": "T4"
    },
    "kernelspec": {
      "name": "python3",
      "display_name": "Python 3"
    },
    "language_info": {
      "name": "python"
    },
    "accelerator": "GPU"
  },
  "cells": [
    {
      "cell_type": "code",
      "execution_count": 1,
      "metadata": {
        "colab": {
          "base_uri": "https://localhost:8080/"
        },
        "id": "q5D0omIQtonm",
        "outputId": "c9b62d3f-d4b5-4947-accd-698e66dd62e2"
      },
      "outputs": [
        {
          "output_type": "stream",
          "name": "stdout",
          "text": [
            "Downloading data from https://storage.googleapis.com/tensorflow/tf-keras-datasets/mnist.npz\n",
            "11490434/11490434 [==============================] - 1s 0us/step\n",
            "Epoch 1/5\n",
            "469/469 [==============================] - 16s 7ms/step - loss: 0.6761 - accuracy: 0.9237 - val_loss: 0.0757 - val_accuracy: 0.9761\n",
            "Epoch 2/5\n",
            "469/469 [==============================] - 3s 5ms/step - loss: 0.0609 - accuracy: 0.9814 - val_loss: 0.0631 - val_accuracy: 0.9817\n",
            "Epoch 3/5\n",
            "469/469 [==============================] - 2s 5ms/step - loss: 0.0419 - accuracy: 0.9874 - val_loss: 0.0695 - val_accuracy: 0.9805\n",
            "Epoch 4/5\n",
            "469/469 [==============================] - 2s 5ms/step - loss: 0.0315 - accuracy: 0.9901 - val_loss: 0.0525 - val_accuracy: 0.9845\n",
            "Epoch 5/5\n",
            "469/469 [==============================] - 2s 5ms/step - loss: 0.0249 - accuracy: 0.9922 - val_loss: 0.0522 - val_accuracy: 0.9849\n",
            "313/313 [==============================] - 1s 3ms/step - loss: 0.0522 - accuracy: 0.9849\n",
            "CNN Test Loss: 0.05220308154821396\n",
            "CNN Test Accuracy: 0.9848999977111816\n",
            "CNN Training Loss: [0.6761425733566284, 0.06093721464276314, 0.04190830513834953, 0.03147568181157112, 0.02491241693496704]\n",
            "CNN Training Accuracy: [0.9236833453178406, 0.9813833236694336, 0.9873999953269958, 0.9901166558265686, 0.9922166466712952]\n",
            "Epoch 1/5\n",
            "469/469 [==============================] - 3s 4ms/step - loss: 4.4362 - accuracy: 0.9055 - val_loss: 0.9761 - val_accuracy: 0.9425\n",
            "Epoch 2/5\n",
            "469/469 [==============================] - 2s 3ms/step - loss: 0.5386 - accuracy: 0.9558 - val_loss: 0.6206 - val_accuracy: 0.9436\n",
            "Epoch 3/5\n",
            "469/469 [==============================] - 2s 4ms/step - loss: 0.2617 - accuracy: 0.9686 - val_loss: 0.4911 - val_accuracy: 0.9557\n",
            "Epoch 4/5\n",
            "469/469 [==============================] - 2s 5ms/step - loss: 0.2078 - accuracy: 0.9730 - val_loss: 0.5387 - val_accuracy: 0.9525\n",
            "Epoch 5/5\n",
            "469/469 [==============================] - 2s 3ms/step - loss: 0.1855 - accuracy: 0.9760 - val_loss: 0.4343 - val_accuracy: 0.9599\n",
            "313/313 [==============================] - 1s 2ms/step - loss: 0.4343 - accuracy: 0.9599\n",
            "DNN Test Loss: 0.4342779219150543\n",
            "DNN Test Accuracy: 0.9599000215530396\n",
            "DNN Training Loss: [4.436245441436768, 0.5386170744895935, 0.2617340087890625, 0.20778843760490417, 0.1854889839887619]\n",
            "DNN Training Accuracy: [0.9055166840553284, 0.9557999968528748, 0.9686333537101746, 0.9730499982833862, 0.976016640663147]\n"
          ]
        }
      ],
      "source": [
        "import numpy as np\n",
        "from keras.datasets import mnist\n",
        "from keras.models import Sequential\n",
        "from keras.layers import Dense, Flatten, Conv2D, MaxPooling2D\n",
        "from keras.utils import to_categorical\n",
        "from keras.optimizers import SGD\n",
        "import matplotlib.pyplot as plt\n",
        "\n",
        "# 載入數據集\n",
        "(x_train, y_train), (x_test, y_test) = mnist.load_data()\n",
        "\n",
        "# 資料預處理\n",
        "x_train = x_train.reshape(60000, 28, 28, 1)\n",
        "x_test = x_test.reshape(10000, 28, 28, 1)\n",
        "y_train = to_categorical(y_train, 10)\n",
        "y_test = to_categorical(y_test, 10)\n",
        "\n",
        "# 建立CNN模型\n",
        "cnn_model = Sequential()\n",
        "cnn_model.add(Conv2D(32, kernel_size=(3,3), activation='relu', input_shape=(28, 28, 1)))\n",
        "cnn_model.add(MaxPooling2D(pool_size=(2, 2)))\n",
        "cnn_model.add(Conv2D(64, kernel_size=(3,3), activation='relu'))\n",
        "cnn_model.add(MaxPooling2D(pool_size=(2, 2)))\n",
        "cnn_model.add(Flatten())\n",
        "cnn_model.add(Dense(128, activation='relu'))\n",
        "cnn_model.add(Dense(10, activation='softmax'))\n",
        "\n",
        "# 編譯與訓練\n",
        "cnn_model.compile(loss='categorical_crossentropy', optimizer='adam', metrics=['accuracy'])\n",
        "\n",
        "cnn_history = cnn_model.fit(x_train, y_train, batch_size=128, epochs=5, validation_data=(x_test, y_test))\n",
        "\n",
        "# 評估CNN模型\n",
        "cnn_test_loss, cnn_test_acc = cnn_model.evaluate(x_test, y_test)\n",
        "print('CNN Test Loss:', cnn_test_loss)\n",
        "print('CNN Test Accuracy:', cnn_test_acc)\n",
        "\n",
        "# 打印CNN訓練過程指標\n",
        "print('CNN Training Loss:', cnn_history.history['loss'])\n",
        "print('CNN Training Accuracy:', cnn_history.history['accuracy'])\n",
        "\n",
        "# 建立DNN模型\n",
        "dnn_model = Sequential()\n",
        "dnn_model.add(Flatten(input_shape=(28, 28)))\n",
        "dnn_model.add(Dense(512, activation='relu'))\n",
        "dnn_model.add(Dense(10, activation='softmax'))\n",
        "\n",
        "# 編譯與訓練\n",
        "dnn_model.compile(loss='categorical_crossentropy', optimizer='adam', metrics=['accuracy'])\n",
        "\n",
        "dnn_history = dnn_model.fit(x_train, y_train, batch_size=128, epochs=5, validation_data=(x_test, y_test))\n",
        "\n",
        "# 評估DNN模型\n",
        "dnn_test_loss, dnn_test_acc = dnn_model.evaluate(x_test, y_test)\n",
        "print('DNN Test Loss:', dnn_test_loss)\n",
        "print('DNN Test Accuracy:', dnn_test_acc)\n",
        "\n",
        "# 打印DNN訓練過程指標\n",
        "print('DNN Training Loss:', dnn_history.history['loss'])\n",
        "print('DNN Training Accuracy:', dnn_history.history['accuracy'])"
      ]
    }
  ]
}